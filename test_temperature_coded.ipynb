{
 "cells": [
  {
   "cell_type": "code",
   "execution_count": 1,
   "id": "1f6b81cc",
   "metadata": {},
   "outputs": [
    {
     "data": {
      "text/html": [
       "<style>.container { width:95% !important; }</style>"
      ],
      "text/plain": [
       "<IPython.core.display.HTML object>"
      ]
     },
     "metadata": {},
     "output_type": "display_data"
    },
    {
     "data": {
      "text/html": [
       "<style>.output_result { max-width:95% !important; }</style>"
      ],
      "text/plain": [
       "<IPython.core.display.HTML object>"
      ]
     },
     "metadata": {},
     "output_type": "display_data"
    }
   ],
   "source": [
    "#increase the display size to 95% of window width\n",
    "from IPython.display import display, HTML\n",
    "display(HTML(\"<style>.container { width:95% !important; }</style>\"))\n",
    "display(HTML(\"<style>.output_result { max-width:95% !important; }</style>\"))\n",
    "\n",
    "\n",
    "import numpy as np\n",
    "import matplotlib.pyplot as plt\n",
    "import pandas as pd\n",
    "from scipy.interpolate import interp1d\n",
    "import glob\n",
    "import os\n",
    "import sys\n",
    "import pylab as pl\n",
    "import xarray as xr\n",
    "import pymp\n",
    "import mpl_toolkits.axisartist\n",
    "from matplotlib.ticker import (MultipleLocator, FormatStrFormatter,\n",
    "                               AutoMinorLocator)\n",
    "import string\n",
    "import matplotlib.cm as cm\n",
    "from cmcrameri import cm as cr\n",
    "\n",
    "path = os.getcwd().split('/')\n",
    "machine_path = '/'+path[1]+'/'+path[2] #cat the /home/user/ or /Users/user from system using path\n",
    "\n",
    "sys.path.insert(0, f\"{machine_path}/opt/scripts/functions\")\n",
    "from mandyocIO import read_datasets, change_dataset, plot_property, find_nearest, plot_tracked_particles_depth_coded, plot_ptt_paths_depth_coded"
   ]
  },
  {
   "cell_type": "code",
   "execution_count": null,
   "id": "1e386cc1",
   "metadata": {},
   "outputs": [],
   "source": []
  }
 ],
 "metadata": {
  "kernelspec": {
   "display_name": "mpy",
   "language": "python",
   "name": "python3"
  },
  "language_info": {
   "codemirror_mode": {
    "name": "ipython",
    "version": 3
   },
   "file_extension": ".py",
   "mimetype": "text/x-python",
   "name": "python",
   "nbconvert_exporter": "python",
   "pygments_lexer": "ipython3",
   "version": "3.9.23"
  }
 },
 "nbformat": 4,
 "nbformat_minor": 5
}
